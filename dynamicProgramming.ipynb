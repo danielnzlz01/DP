{
 "cells": [
  {
   "cell_type": "markdown",
   "metadata": {},
   "source": [
    "# Introducción a la Programación Dinámica\n",
    "\n",
    "La programación dinámica es una técnica de optimización utilizada en algoritmos para resolver problemas complejos dividiéndolos en subproblemas más simples. Esta técnica es especialmente útil cuando el mismo subproblema se resuelve múltiples veces.\n",
    "\n",
    "El ejemplo más común es el cálculo de los números de la secuencia de Fibonacci. La secuencia de Fibonacci se define como $F(n) = F(n-1) + F(n-2)$, los primeros 6 dígitos serían $[1, 1, 2, 3, 5, 8]$ . Al intentar calcular $F(n)$ de forma recursiva, se realizan muchos cálculos redundantes. La programación dinámica resuelve este problema almacenando los resultados de los subproblemas para evitar cálculos repetidos.\n",
    "\n",
    "## Características Principales\n",
    "\n",
    "1. El problema principal se divide en subproblemas más pequeños y manejables.\n",
    "2. Los resultados de los subproblemas se almacenan para evitar cálculos redundantes.\n",
    "3. Los subproblemas se resuelven de manera recursiva o iterativa.\n",
    "\n",
    "## Ventajas\n",
    "\n",
    "- Reduce el tiempo de ejecución al evitar cálculos repetidos.\n",
    "- Facilita la resolución de problemas complejos mediante la descomposición en subproblemas.\n",
    "\n",
    "## Complejidad de Tiempo y Espacio\n",
    "\n",
    "La programación dinámica puede mejorar significativamente la complejidad temporal de un algoritmo al evitar cálculos redundantes. Sin embargo, esto puede venir a costa de un mayor uso de memoria.\n",
    "\n",
    "- Al almacenar los resultados de los subproblemas, la programación dinámica puede reducir la complejidad temporal de exponencial a polinómica en muchos casos.\n",
    "- El almacenamiento de los resultados de los subproblemas puede aumentar la complejidad espacial, ya que se necesita memoria adicional para guardar estos resultados.\n",
    "\n",
    "## Retomando el Ejemplo de Fibonacci\n",
    "\n",
    "Evaluemos 3 enfoques para resolver el problema de Fibonacci:\n",
    "1. Recursivo: Calculando $F(n)$ a partir de $F(n-1)$ y $F(n-2)$.\n",
    "2. Memoization: Almacenando los resultados de los subproblemas para evitar cálculos redundantes.\n",
    "3. Bottom-Up: Calculando los resultados de los subproblemas de manera iterativa.\n",
    "\n",
    "### Recursivo"
   ]
  },
  {
   "cell_type": "code",
   "execution_count": 116,
   "metadata": {},
   "outputs": [
    {
     "name": "stdout",
     "output_type": "stream",
     "text": [
      "En la posición 5 el número de fibonacci es 8 después de 15 llamadas\n"
     ]
    }
   ],
   "source": [
    "count = 0\n",
    "\n",
    "def fibonacci(n):\n",
    "    global count\n",
    "    count += 1\n",
    "    \n",
    "    if n <= 1:\n",
    "        result = 1\n",
    "    else:\n",
    "        result = fibonacci(n-1) + fibonacci(n-2)\n",
    "    return result\n",
    "\n",
    "n = 5\n",
    "print(f\"En la posición {n} el número de fibonacci es {fibonacci(n)} después de {count} llamadas\")"
   ]
  },
  {
   "cell_type": "markdown",
   "metadata": {},
   "source": [
    "Para n = 5, la secuencia de llamadas es la siguiente:\n",
    "\n",
    "- `fibonacci(5)`\n",
    "    - `fibonacci(4)`\n",
    "        - `fibonacci(3)`\n",
    "            - `fibonacci(2)`\n",
    "                - `fibonacci(1)` (caso base = 1): resultado = 1\n",
    "                - `fibonacci(0)` (caso base = 1): resultado = 2\n",
    "            - `fibonacci(1)` (caso base = 1): resultado = 3\n",
    "        - `fibonacci(2)`\n",
    "            - `fibonacci(1)` (caso base = 1): resultado = 4\n",
    "            - `fibonacci(0)` (caso base = 1): resultado = 5\n",
    "    - `fibonacci(3)`\n",
    "        - `fibonacci(2)`\n",
    "            - `fibonacci(1)` (caso base = 1): resultado = 6\n",
    "            - `fibonacci(0)` (caso base = 1): resultado = 7\n",
    "        - `fibonacci(1)` (caso base = 1): resultado = 8\n",
    "\n",
    "La complejidad temporal de este enfoque es $O(2^n)$ porque cada llamada recursiva se bifurca en dos llamadas adicionales."
   ]
  },
  {
   "cell_type": "markdown",
   "metadata": {},
   "source": [
    "### Memoization"
   ]
  },
  {
   "cell_type": "code",
   "execution_count": 44,
   "metadata": {},
   "outputs": [
    {
     "name": "stdout",
     "output_type": "stream",
     "text": [
      "En la posición 5 el número de fibonacci es 8 después de 9 llamadas\n"
     ]
    }
   ],
   "source": [
    "count = 0\n",
    "n = 5\n",
    "memo = [None] * (n + 1)\n",
    "\n",
    "def fibonacci(n, memo):\n",
    "    global count\n",
    "    count += 1\n",
    "    \n",
    "    if memo[n] is not None:\n",
    "        return memo[n]\n",
    "    if n <= 1:\n",
    "        result = 1\n",
    "    else:\n",
    "        result = fibonacci(n-1, memo) + fibonacci(n-2, memo)\n",
    "    memo[n] = result\n",
    "    return result\n",
    "\n",
    "print(f\"En la posición {n} el número de fibonacci es {fibonacci(n, memo)} después de {count} llamadas\")"
   ]
  },
  {
   "cell_type": "markdown",
   "metadata": {},
   "source": [
    "Para n = 5, la secuencia de llamadas es la siguiente:\n",
    "\n",
    "- `fibonacci(5)`\n",
    "    - `fibonacci(4)`\n",
    "        - `fibonacci(3)`\n",
    "            - `fibonacci(2)`\n",
    "                - `fibonacci(1)` (caso base = 1)\n",
    "                - `fibonacci(0)` (caso base = 1)\n",
    "            - `fibonacci(1)` (memoizado)\n",
    "        - `fibonacci(2)` (memoizado)\n",
    "    - `fibonacci(3)` (memoizado)\n",
    "\n",
    "La complejidad temporal de este enfoque es $O(n)$ porque cada subproblema se resuelve una vez.\n"
   ]
  },
  {
   "cell_type": "markdown",
   "metadata": {},
   "source": [
    "### Bottom-Up"
   ]
  },
  {
   "cell_type": "code",
   "execution_count": 68,
   "metadata": {},
   "outputs": [
    {
     "name": "stdout",
     "output_type": "stream",
     "text": [
      "bottom_up[0] = [1, None, None, None, None, None]\n",
      "bottom_up[1] = [1, 1, None, None, None, None]\n",
      "bottom_up[2] = [1, 1, 2, None, None, None]\n",
      "bottom_up[3] = [1, 1, 2, 3, None, None]\n",
      "bottom_up[4] = [1, 1, 2, 3, 5, None]\n",
      "bottom_up[5] = [1, 1, 2, 3, 5, 8]\n",
      "\n",
      "En la posición 5 el número de fibonacci es 8 después de 1 llamada\n",
      "Y los números de fibonacci almacenados son [1, 1, 2, 3, 5, 8]\n"
     ]
    }
   ],
   "source": [
    "count = 0\n",
    "\n",
    "def fibonacci(n):\n",
    "    global count\n",
    "    count += 1\n",
    "\n",
    "    if n <= 1:\n",
    "        return (1, [1])\n",
    "    else:\n",
    "        bottom_up = [None] * (n + 1)\n",
    "        bottom_up[0] = 1\n",
    "        print(f\"bottom_up[0] = {bottom_up}\")\n",
    "        bottom_up[1] = 1\n",
    "        print(f\"bottom_up[1] = {bottom_up}\")\n",
    "        for i in range(2, n + 1):\n",
    "            bottom_up[i] = bottom_up[i - 1] + bottom_up[i - 2]\n",
    "            print(f\"bottom_up[{i}] = {bottom_up}\") \n",
    "        return (bottom_up[n], bottom_up)\n",
    "    \n",
    "n = 5\n",
    "result, sequence = fibonacci(n)\n",
    "print(f\"\\nEn la posición {n} el número de fibonacci es {result} después de {count} llamada\\nY los números de fibonacci almacenados son {sequence}\")"
   ]
  },
  {
   "cell_type": "markdown",
   "metadata": {},
   "source": [
    "La complejidad temporal de este enfoque es $O(n)$ porque unicamente iteramos 1 vez sobre los $n$ subproblemas."
   ]
  },
  {
   "cell_type": "markdown",
   "metadata": {},
   "source": [
    "De los 3 enfoques, el bottom-up es el más eficiente en términos de tiempo y espacio. Sin embargo, la programación dinámica no siempre es la mejor opción para resolver un problema. Es importante evaluar la complejidad temporal y espacial de cada enfoque antes de decidir cuál utilizar.\n",
    "\n",
    "Bottom-up es un enfoque de programación dinámica, ya que se resuelven los subproblemas de manera iterativa y se almacenan los resultados para evitar cálculos redundantes.\n",
    "\n",
    "Memoization también es un enfoque de programación dinámica, pero se resuelven los subproblemas de manera recursiva y se almacenan los resultados para evitar cálculos redundantes. \n",
    "La recursión implica un mayor uso de la pila de llamadas, lo que puede ralentizar el rendimiento, es por eso que el enfoque bottom-up es preferible en muchos casos.\n",
    "\n",
    "Recursivo no es un enfoque de programación dinámica, ya que no se almacenan los resultados de los subproblemas."
   ]
  },
  {
   "cell_type": "markdown",
   "metadata": {},
   "source": [
    "## Ejercicio House Robber\n",
    "\n",
    "You are a professional robber planning to rob houses along a street. Each house has a certain amount of money stashed, the only constraint stopping you from robbing each of them is that adjacent houses have security systems connected and it will automatically contact the police if two adjacent houses were broken into on the same night.\n",
    "\n",
    "Given an integer array nums representing the amount of money of each house, return the maximum amount of money you can rob tonight without alerting the police.\n",
    "\n",
    "**Example 1**:\n",
    "\n",
    "Input: `nums = [1,2,3,1]`\n",
    "\n",
    "Output: `4`\n",
    "\n",
    "Explanation: `Rob house 1 (money = 1) and then rob house 3 (money = 3).`\n",
    "\n",
    "`Total amount you can rob = 1 + 3 = 4.`\n",
    "\n",
    "**Example 2**:\n",
    "\n",
    "Input: `nums = [2,7,9,3,1]`\n",
    "\n",
    "Output: `12`\n",
    "\n",
    "Explanation: `Rob house 1 (money = 2), rob house 3 (money = 9) and rob house 5 (money = 1).`\n",
    "\n",
    "`Total amount you can rob = 2 + 9 + 1 = 12.`\n",
    "\n",
    "Constraints:\n",
    "\n",
    "`1 <= nums.length <= 100`\n",
    "\n",
    "`0 <= nums[i] <= 400`"
   ]
  },
  {
   "cell_type": "markdown",
   "metadata": {},
   "source": [
    "### Brute Force"
   ]
  },
  {
   "cell_type": "code",
   "execution_count": 209,
   "metadata": {},
   "outputs": [],
   "source": [
    "def rob(nums):\n",
    "    global count\n",
    "    count = 0\n",
    "    n = len(nums)\n",
    "\n",
    "    def rob_recursive(i):\n",
    "        global count\n",
    "        count += 1\n",
    "        if i < 0:\n",
    "            return 0\n",
    "        return max(rob_recursive(i - 1), rob_recursive(i - 2) + nums[i])\n",
    "\n",
    "    return rob_recursive(n - 1)"
   ]
  },
  {
   "cell_type": "code",
   "execution_count": 206,
   "metadata": {},
   "outputs": [
    {
     "name": "stdout",
     "output_type": "stream",
     "text": [
      "Se realizaron 15 llamadas\n",
      "La cantidad máxima de dinero que se puede robar es 4\n",
      "cuando los valores de las casas son [1, 2, 3, 1]\n",
      "\n",
      "\n"
     ]
    }
   ],
   "source": [
    "nums = [1,2,3,1]\n",
    "print(f\"Se realizaron {count} llamadas\\nLa cantidad máxima de dinero que se puede robar es {rob(nums)}\\ncuando los valores de las casas son {nums}\\n\\n\")"
   ]
  },
  {
   "cell_type": "code",
   "execution_count": 210,
   "metadata": {},
   "outputs": [
    {
     "name": "stdout",
     "output_type": "stream",
     "text": [
      "Se realizaron 109 llamadas\n",
      "La cantidad máxima de dinero que se puede robar es 26\n",
      "cuando los valores de las casas son [2, 7, 9, 3, 1, 6, 8, 9]\n"
     ]
    }
   ],
   "source": [
    "nums = [2,7,9,3,1,6,8,9]\n",
    "print(f\"Se realizaron {count} llamadas\\nLa cantidad máxima de dinero que se puede robar es {rob(nums)}\\ncuando los valores de las casas son {nums}\")"
   ]
  },
  {
   "cell_type": "markdown",
   "metadata": {},
   "source": [
    "- La complejidad temporal de este problema es $O(2^n)$ porque se generan todas las combinaciones posibles de casas a robar.\n",
    "\n",
    "- La complejidad espacial es $O(n)$ por la pila de llamadas de la recursión."
   ]
  },
  {
   "cell_type": "markdown",
   "metadata": {},
   "source": [
    "### Memoization"
   ]
  },
  {
   "cell_type": "code",
   "execution_count": 231,
   "metadata": {},
   "outputs": [],
   "source": [
    "def rob(nums):\n",
    "    global count\n",
    "    n = len(nums)\n",
    "    memo = {}\n",
    "    count = 0\n",
    "\n",
    "    def rob_recursive(i):\n",
    "        global count\n",
    "        count += 1\n",
    "\n",
    "        if i < 0:\n",
    "            return 0\n",
    "        if i in memo:\n",
    "            return memo[i]\n",
    "\n",
    "        memo[i] = max(rob_recursive(i - 1), rob_recursive(i - 2) + nums[i])\n",
    "        return memo[i]\n",
    "\n",
    "    return rob_recursive(n - 1)"
   ]
  },
  {
   "cell_type": "code",
   "execution_count": 232,
   "metadata": {},
   "outputs": [
    {
     "name": "stdout",
     "output_type": "stream",
     "text": [
      "Se realizaron 9 llamadas\n",
      "La cantidad máxima de dinero que se puede robar es 4\n",
      "cuando los valores de las casas son [1, 2, 3, 1]\n",
      "\n",
      "\n"
     ]
    }
   ],
   "source": [
    "nums = [1,2,3,1]\n",
    "print(f\"Se realizaron {count} llamadas\\nLa cantidad máxima de dinero que se puede robar es {rob(nums)}\\ncuando los valores de las casas son {nums}\\n\\n\")"
   ]
  },
  {
   "cell_type": "markdown",
   "metadata": {},
   "source": [
    "- `rob_recursive(3)`\n",
    "    - `rob_recursive(2)`\n",
    "        - `rob_recursive(1)`\n",
    "            - `rob_recursive(0)`\n",
    "                - `rob_recursive(-1)`, return 0\n",
    "                - `rob_recursive(-2)`, return 0\n",
    "            - `rob_recursive(-1)`, return 0\n",
    "        - `rob_recursive(0)` memoized\n",
    "    - `rob_recursive(1)` memoized"
   ]
  },
  {
   "cell_type": "code",
   "execution_count": 226,
   "metadata": {},
   "outputs": [
    {
     "name": "stdout",
     "output_type": "stream",
     "text": [
      "Se realizaron 11 llamadas\n",
      "La cantidad máxima de dinero que se puede robar es 12\n",
      "cuando los valores de las casas son [2, 7, 9, 3, 1]\n"
     ]
    }
   ],
   "source": [
    "nums = [2,7,9,3,1]\n",
    "print(f\"Se realizaron {count} llamadas\\nLa cantidad máxima de dinero que se puede robar es {rob(nums)}\\ncuando los valores de las casas son {nums}\")"
   ]
  },
  {
   "cell_type": "markdown",
   "metadata": {},
   "source": [
    "\n",
    "\n",
    "- `rob_recursive(4)`\n",
    "    - `rob_recursive(3)`\n",
    "        - `rob_recursive(2)`\n",
    "            - `rob_recursive(1)`\n",
    "                - `rob_recursive(0)`\n",
    "                    - `rob_recursive(-1)`, return 0\n",
    "                    - `rob_recursive(-2)`, return 0\n",
    "                - `rob_recursive(-1)` memoized\n",
    "            - `rob_recursive(0)` memoized\n",
    "        - `rob_recursive(1)` memoized\n",
    "    - `rob_recursive(2)` memoized\n",
    "\n"
   ]
  },
  {
   "cell_type": "markdown",
   "metadata": {},
   "source": [
    "- La complejidad temporal de este problema es $O(n)$ porque se resuelven los subproblemas de manera recursiva **una** única vez y se almacenan los resultados para evitar cálculos redundantes.\n",
    "\n",
    "- La complejidad espacial es $O(n)$ por la pila de llamadas de la recursión y el diccionario que almacena los resultados de los subproblemas."
   ]
  },
  {
   "cell_type": "markdown",
   "metadata": {},
   "source": [
    "### Bottom Up"
   ]
  },
  {
   "cell_type": "code",
   "execution_count": 145,
   "metadata": {},
   "outputs": [],
   "source": [
    "def rob(nums):\n",
    "    n = len(nums)\n",
    "    if n == 0:\n",
    "        return 0\n",
    "    if n == 1:\n",
    "        return nums[0]\n",
    "    \n",
    "    dp = [None] * n\n",
    "    dp[0] = nums[0]\n",
    "    print(f\"dp[0] = {dp}\")\n",
    "    dp[1] = max(nums[0], nums[1])\n",
    "    print(f\"dp[1] = {dp}\")\n",
    "\n",
    "    for i in range(2, n):\n",
    "        dp[i] = max(dp[i-1], dp[i-2] + nums[i])\n",
    "        print(f\"dp[{i}] = {dp}\")\n",
    "\n",
    "    return dp[n-1]"
   ]
  },
  {
   "cell_type": "code",
   "execution_count": 148,
   "metadata": {},
   "outputs": [
    {
     "name": "stdout",
     "output_type": "stream",
     "text": [
      "dp[0] = [1, None, None, None]\n",
      "dp[1] = [1, 2, None, None]\n",
      "dp[2] = [1, 2, 4, None]\n",
      "dp[3] = [1, 2, 4, 4]\n",
      "\n",
      "La cantidad máxima de dinero que se puede robar es 4\n",
      "cuando los valores de las casas son [1, 2, 3, 1]\n",
      "\n",
      "\n"
     ]
    }
   ],
   "source": [
    "nums = [1,2,3,1]\n",
    "print(f\"\\nLa cantidad máxima de dinero que se puede robar es {rob(nums)}\\ncuando los valores de las casas son {nums}\\n\\n\")"
   ]
  },
  {
   "cell_type": "code",
   "execution_count": 149,
   "metadata": {},
   "outputs": [
    {
     "name": "stdout",
     "output_type": "stream",
     "text": [
      "dp[0] = [2, None, None, None, None]\n",
      "dp[1] = [2, 7, None, None, None]\n",
      "dp[2] = [2, 7, 11, None, None]\n",
      "dp[3] = [2, 7, 11, 11, None]\n",
      "dp[4] = [2, 7, 11, 11, 12]\n",
      "\n",
      "La cantidad máxima de dinero que se puede robar es 12\n",
      "cuando los valores de las casas son [2, 7, 9, 3, 1]\n"
     ]
    }
   ],
   "source": [
    "nums = [2,7,9,3,1]\n",
    "print(f\"\\nLa cantidad máxima de dinero que se puede robar es {rob(nums)}\\ncuando los valores de las casas son {nums}\")"
   ]
  },
  {
   "cell_type": "markdown",
   "metadata": {},
   "source": [
    "- La complejidad temporal de este problema es $O(n)$ porque se recorren todos los elementos del array para calcular el máximo.\n",
    "\n",
    "- La complejidad espacial es $O(1)$ porque no se utilizan estructuras de datos adicionales, es decir, se almacena un número constante de variables."
   ]
  }
 ],
 "metadata": {
  "kernelspec": {
   "display_name": ".venv",
   "language": "python",
   "name": "python3"
  },
  "language_info": {
   "codemirror_mode": {
    "name": "ipython",
    "version": 3
   },
   "file_extension": ".py",
   "mimetype": "text/x-python",
   "name": "python",
   "nbconvert_exporter": "python",
   "pygments_lexer": "ipython3",
   "version": "3.12.3"
  }
 },
 "nbformat": 4,
 "nbformat_minor": 2
}
